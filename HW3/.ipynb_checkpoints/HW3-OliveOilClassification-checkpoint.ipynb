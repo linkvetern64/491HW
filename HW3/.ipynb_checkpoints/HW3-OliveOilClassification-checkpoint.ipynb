{
 "cells": [
  {
   "cell_type": "markdown",
   "metadata": {},
   "source": [
    "# HW3: Task\n",
    "Predict the region and area (or areaname) of olive oils based on their fatty acid contents.source \n",
    "\n",
    "The task's source is http://www.ggobi.org/book/\n",
    "\n",
    "Fit and evaluate the classification predictions of LDA, LogisticRegression, SVM, k-NN, and \n",
    "Random Forests for both the region and area.\n",
    "\n",
    "### 20 pts for each classifier\n",
    "\n",
    "You may use the Classification Jupyter Notebook Dr. Kalpakis prepared for the class."
   ]
  },
  {
   "cell_type": "markdown",
   "metadata": {},
   "source": [
    "## Dataset description and data"
   ]
  },
  {
   "cell_type": "code",
   "execution_count": 1,
   "metadata": {},
   "outputs": [
    {
     "data": {
      "text/html": [
       "\n",
       "        <iframe\n",
       "            width=\"100\"\n",
       "            height=\"100\"\n",
       "            src=\"OliveOil2.pdf?embed=True\"\n",
       "            frameborder=\"0\"\n",
       "            allowfullscreen\n",
       "        ></iframe>\n",
       "        "
      ],
      "text/plain": [
       "<IPython.lib.display.IFrame at 0x5a64e48>"
      ]
     },
     "execution_count": 1,
     "metadata": {},
     "output_type": "execute_result"
    }
   ],
   "source": [
    "from IPython.display import IFrame\n",
    "IFrame(\"OliveOil2.pdf\", height=100, width=100, embed=True)"
   ]
  },
  {
   "cell_type": "code",
   "execution_count": 2,
   "metadata": {
    "collapsed": true
   },
   "outputs": [],
   "source": [
    "%matplotlib inline\n",
    "import pandas as pd"
   ]
  },
  {
   "cell_type": "code",
   "execution_count": 3,
   "metadata": {},
   "outputs": [
    {
     "data": {
      "text/html": [
       "<div>\n",
       "<style>\n",
       "    .dataframe thead tr:only-child th {\n",
       "        text-align: right;\n",
       "    }\n",
       "\n",
       "    .dataframe thead th {\n",
       "        text-align: left;\n",
       "    }\n",
       "\n",
       "    .dataframe tbody tr th {\n",
       "        vertical-align: top;\n",
       "    }\n",
       "</style>\n",
       "<table border=\"1\" class=\"dataframe\">\n",
       "  <thead>\n",
       "    <tr style=\"text-align: right;\">\n",
       "      <th></th>\n",
       "      <th>areaname</th>\n",
       "      <th>region</th>\n",
       "      <th>area</th>\n",
       "      <th>palmitic</th>\n",
       "      <th>palmitoleic</th>\n",
       "      <th>stearic</th>\n",
       "      <th>oleic</th>\n",
       "      <th>linoleic</th>\n",
       "      <th>linolenic</th>\n",
       "      <th>arachidic</th>\n",
       "      <th>eicosenoic</th>\n",
       "    </tr>\n",
       "  </thead>\n",
       "  <tbody>\n",
       "    <tr>\n",
       "      <th>394</th>\n",
       "      <td>Inland-Sardinia</td>\n",
       "      <td>2</td>\n",
       "      <td>5</td>\n",
       "      <td>1103</td>\n",
       "      <td>81</td>\n",
       "      <td>208</td>\n",
       "      <td>7310</td>\n",
       "      <td>1177</td>\n",
       "      <td>30</td>\n",
       "      <td>90</td>\n",
       "      <td>3</td>\n",
       "    </tr>\n",
       "    <tr>\n",
       "      <th>11</th>\n",
       "      <td>North-Apulia</td>\n",
       "      <td>1</td>\n",
       "      <td>1</td>\n",
       "      <td>1036</td>\n",
       "      <td>59</td>\n",
       "      <td>235</td>\n",
       "      <td>7868</td>\n",
       "      <td>661</td>\n",
       "      <td>30</td>\n",
       "      <td>62</td>\n",
       "      <td>44</td>\n",
       "    </tr>\n",
       "    <tr>\n",
       "      <th>486</th>\n",
       "      <td>East-Liguria</td>\n",
       "      <td>3</td>\n",
       "      <td>7</td>\n",
       "      <td>1080</td>\n",
       "      <td>100</td>\n",
       "      <td>260</td>\n",
       "      <td>7710</td>\n",
       "      <td>750</td>\n",
       "      <td>20</td>\n",
       "      <td>70</td>\n",
       "      <td>2</td>\n",
       "    </tr>\n",
       "    <tr>\n",
       "      <th>408</th>\n",
       "      <td>Inland-Sardinia</td>\n",
       "      <td>2</td>\n",
       "      <td>5</td>\n",
       "      <td>1094</td>\n",
       "      <td>96</td>\n",
       "      <td>220</td>\n",
       "      <td>7341</td>\n",
       "      <td>1127</td>\n",
       "      <td>26</td>\n",
       "      <td>96</td>\n",
       "      <td>2</td>\n",
       "    </tr>\n",
       "    <tr>\n",
       "      <th>110</th>\n",
       "      <td>South-Apulia</td>\n",
       "      <td>1</td>\n",
       "      <td>3</td>\n",
       "      <td>1305</td>\n",
       "      <td>172</td>\n",
       "      <td>169</td>\n",
       "      <td>7004</td>\n",
       "      <td>1260</td>\n",
       "      <td>28</td>\n",
       "      <td>50</td>\n",
       "      <td>11</td>\n",
       "    </tr>\n",
       "    <tr>\n",
       "      <th>544</th>\n",
       "      <td>West-Liguria</td>\n",
       "      <td>3</td>\n",
       "      <td>8</td>\n",
       "      <td>1180</td>\n",
       "      <td>130</td>\n",
       "      <td>220</td>\n",
       "      <td>7450</td>\n",
       "      <td>1010</td>\n",
       "      <td>0</td>\n",
       "      <td>10</td>\n",
       "      <td>2</td>\n",
       "    </tr>\n",
       "    <tr>\n",
       "      <th>343</th>\n",
       "      <td>Inland-Sardinia</td>\n",
       "      <td>2</td>\n",
       "      <td>5</td>\n",
       "      <td>1176</td>\n",
       "      <td>92</td>\n",
       "      <td>207</td>\n",
       "      <td>7347</td>\n",
       "      <td>1057</td>\n",
       "      <td>35</td>\n",
       "      <td>82</td>\n",
       "      <td>1</td>\n",
       "    </tr>\n",
       "    <tr>\n",
       "      <th>246</th>\n",
       "      <td>South-Apulia</td>\n",
       "      <td>1</td>\n",
       "      <td>3</td>\n",
       "      <td>1201</td>\n",
       "      <td>138</td>\n",
       "      <td>207</td>\n",
       "      <td>7011</td>\n",
       "      <td>1269</td>\n",
       "      <td>37</td>\n",
       "      <td>64</td>\n",
       "      <td>35</td>\n",
       "    </tr>\n",
       "    <tr>\n",
       "      <th>94</th>\n",
       "      <td>South-Apulia</td>\n",
       "      <td>1</td>\n",
       "      <td>3</td>\n",
       "      <td>1413</td>\n",
       "      <td>193</td>\n",
       "      <td>208</td>\n",
       "      <td>6875</td>\n",
       "      <td>1202</td>\n",
       "      <td>30</td>\n",
       "      <td>60</td>\n",
       "      <td>18</td>\n",
       "    </tr>\n",
       "    <tr>\n",
       "      <th>569</th>\n",
       "      <td>West-Liguria</td>\n",
       "      <td>3</td>\n",
       "      <td>8</td>\n",
       "      <td>1010</td>\n",
       "      <td>90</td>\n",
       "      <td>210</td>\n",
       "      <td>7720</td>\n",
       "      <td>970</td>\n",
       "      <td>0</td>\n",
       "      <td>0</td>\n",
       "      <td>2</td>\n",
       "    </tr>\n",
       "  </tbody>\n",
       "</table>\n",
       "</div>"
      ],
      "text/plain": [
       "            areaname  region  area  palmitic  palmitoleic  stearic  oleic  \\\n",
       "394  Inland-Sardinia       2     5      1103           81      208   7310   \n",
       "11      North-Apulia       1     1      1036           59      235   7868   \n",
       "486     East-Liguria       3     7      1080          100      260   7710   \n",
       "408  Inland-Sardinia       2     5      1094           96      220   7341   \n",
       "110     South-Apulia       1     3      1305          172      169   7004   \n",
       "544     West-Liguria       3     8      1180          130      220   7450   \n",
       "343  Inland-Sardinia       2     5      1176           92      207   7347   \n",
       "246     South-Apulia       1     3      1201          138      207   7011   \n",
       "94      South-Apulia       1     3      1413          193      208   6875   \n",
       "569     West-Liguria       3     8      1010           90      210   7720   \n",
       "\n",
       "     linoleic  linolenic  arachidic  eicosenoic  \n",
       "394      1177         30         90           3  \n",
       "11        661         30         62          44  \n",
       "486       750         20         70           2  \n",
       "408      1127         26         96           2  \n",
       "110      1260         28         50          11  \n",
       "544      1010          0         10           2  \n",
       "343      1057         35         82           1  \n",
       "246      1269         37         64          35  \n",
       "94       1202         30         60          18  \n",
       "569       970          0          0           2  "
      ]
     },
     "execution_count": 3,
     "metadata": {},
     "output_type": "execute_result"
    }
   ],
   "source": [
    "# The dataset\n",
    "df=pd.read_csv(\"olive.csv\")\n",
    "df.rename(columns={df.columns[0]:'areaname'}, inplace=True)\n",
    "df.areaname=df.areaname.map(lambda x: x.split('.')[-1])\n",
    "df.sample(50).head(10)"
   ]
  },
  {
   "cell_type": "markdown",
   "metadata": {},
   "source": [
    "## 1. LDA"
   ]
  },
  {
   "cell_type": "code",
   "execution_count": null,
   "metadata": {
    "collapsed": true
   },
   "outputs": [],
   "source": []
  },
  {
   "cell_type": "markdown",
   "metadata": {},
   "source": [
    "## 2. Logistic Regression"
   ]
  },
  {
   "cell_type": "code",
   "execution_count": null,
   "metadata": {
    "collapsed": true
   },
   "outputs": [],
   "source": []
  },
  {
   "cell_type": "markdown",
   "metadata": {},
   "source": [
    "## 3. SVM"
   ]
  },
  {
   "cell_type": "code",
   "execution_count": null,
   "metadata": {
    "collapsed": true
   },
   "outputs": [],
   "source": []
  },
  {
   "cell_type": "markdown",
   "metadata": {},
   "source": [
    "## 4. k-NN"
   ]
  },
  {
   "cell_type": "code",
   "execution_count": null,
   "metadata": {
    "collapsed": true
   },
   "outputs": [],
   "source": []
  },
  {
   "cell_type": "markdown",
   "metadata": {},
   "source": [
    "## 5. Random Forest"
   ]
  },
  {
   "cell_type": "code",
   "execution_count": null,
   "metadata": {
    "collapsed": true
   },
   "outputs": [],
   "source": []
  }
 ],
 "metadata": {
  "kernelspec": {
   "display_name": "Python 3",
   "language": "python",
   "name": "python3"
  },
  "language_info": {
   "codemirror_mode": {
    "name": "ipython",
    "version": 3
   },
   "file_extension": ".py",
   "mimetype": "text/x-python",
   "name": "python",
   "nbconvert_exporter": "python",
   "pygments_lexer": "ipython3",
   "version": "3.6.2"
  }
 },
 "nbformat": 4,
 "nbformat_minor": 2
}
