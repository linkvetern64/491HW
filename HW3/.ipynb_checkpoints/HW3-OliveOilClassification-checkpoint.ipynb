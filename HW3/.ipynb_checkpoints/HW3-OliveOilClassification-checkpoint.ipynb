{
 "cells": [
  {
   "cell_type": "markdown",
   "metadata": {},
   "source": [
    "# HW3: Task\n",
    "Predict the region and area (or areaname) of olive oils based on their fatty acid contents.source \n",
    "\n",
    "The task's source is http://www.ggobi.org/book/\n",
    "\n",
    "Fit and evaluate the classification predictions of LDA, LogisticRegression, SVM, k-NN, and \n",
    "Random Forests for both the region and area.\n",
    "\n",
    "### 20 pts for each classifier\n",
    "\n",
    "You may use the Classification Jupyter Notebook Dr. Kalpakis prepared for the class."
   ]
  },
  {
   "cell_type": "markdown",
   "metadata": {},
   "source": [
    "## Dataset description and data"
   ]
  },
  {
   "cell_type": "code",
   "execution_count": 2,
   "metadata": {},
   "outputs": [
    {
     "data": {
      "text/html": [
       "\n",
       "        <iframe\n",
       "            width=\"100\"\n",
       "            height=\"100\"\n",
       "            src=\"OliveOil2.pdf?embed=True\"\n",
       "            frameborder=\"0\"\n",
       "            allowfullscreen\n",
       "        ></iframe>\n",
       "        "
      ],
      "text/plain": [
       "<IPython.lib.display.IFrame at 0x2249617f278>"
      ]
     },
     "execution_count": 2,
     "metadata": {},
     "output_type": "execute_result"
    }
   ],
   "source": [
    "from IPython.display import IFrame\n",
    "IFrame(\"OliveOil2.pdf\", height=100, width=100, embed=True)"
   ]
  },
  {
   "cell_type": "code",
   "execution_count": 3,
   "metadata": {
    "collapsed": true
   },
   "outputs": [],
   "source": [
    "%matplotlib inline\n",
    "import pandas as pd\n",
    "import numpy as np"
   ]
  },
  {
   "cell_type": "code",
   "execution_count": 4,
   "metadata": {},
   "outputs": [
    {
     "data": {
      "text/html": [
       "<div>\n",
       "<style>\n",
       "    .dataframe thead tr:only-child th {\n",
       "        text-align: right;\n",
       "    }\n",
       "\n",
       "    .dataframe thead th {\n",
       "        text-align: left;\n",
       "    }\n",
       "\n",
       "    .dataframe tbody tr th {\n",
       "        vertical-align: top;\n",
       "    }\n",
       "</style>\n",
       "<table border=\"1\" class=\"dataframe\">\n",
       "  <thead>\n",
       "    <tr style=\"text-align: right;\">\n",
       "      <th></th>\n",
       "      <th>areaname</th>\n",
       "      <th>region</th>\n",
       "      <th>area</th>\n",
       "      <th>palmitic</th>\n",
       "      <th>palmitoleic</th>\n",
       "      <th>stearic</th>\n",
       "      <th>oleic</th>\n",
       "      <th>linoleic</th>\n",
       "      <th>linolenic</th>\n",
       "      <th>arachidic</th>\n",
       "      <th>eicosenoic</th>\n",
       "    </tr>\n",
       "  </thead>\n",
       "  <tbody>\n",
       "    <tr>\n",
       "      <th>268</th>\n",
       "      <td>Sicily</td>\n",
       "      <td>1</td>\n",
       "      <td>4</td>\n",
       "      <td>1284</td>\n",
       "      <td>93</td>\n",
       "      <td>265</td>\n",
       "      <td>7235</td>\n",
       "      <td>893</td>\n",
       "      <td>43</td>\n",
       "      <td>77</td>\n",
       "      <td>46</td>\n",
       "    </tr>\n",
       "    <tr>\n",
       "      <th>275</th>\n",
       "      <td>Sicily</td>\n",
       "      <td>1</td>\n",
       "      <td>4</td>\n",
       "      <td>1303</td>\n",
       "      <td>100</td>\n",
       "      <td>251</td>\n",
       "      <td>7045</td>\n",
       "      <td>1049</td>\n",
       "      <td>40</td>\n",
       "      <td>86</td>\n",
       "      <td>40</td>\n",
       "    </tr>\n",
       "    <tr>\n",
       "      <th>193</th>\n",
       "      <td>South-Apulia</td>\n",
       "      <td>1</td>\n",
       "      <td>3</td>\n",
       "      <td>1447</td>\n",
       "      <td>236</td>\n",
       "      <td>245</td>\n",
       "      <td>6607</td>\n",
       "      <td>1336</td>\n",
       "      <td>33</td>\n",
       "      <td>51</td>\n",
       "      <td>21</td>\n",
       "    </tr>\n",
       "    <tr>\n",
       "      <th>145</th>\n",
       "      <td>South-Apulia</td>\n",
       "      <td>1</td>\n",
       "      <td>3</td>\n",
       "      <td>1413</td>\n",
       "      <td>202</td>\n",
       "      <td>205</td>\n",
       "      <td>6920</td>\n",
       "      <td>1165</td>\n",
       "      <td>36</td>\n",
       "      <td>46</td>\n",
       "      <td>13</td>\n",
       "    </tr>\n",
       "    <tr>\n",
       "      <th>435</th>\n",
       "      <td>Umbria</td>\n",
       "      <td>3</td>\n",
       "      <td>9</td>\n",
       "      <td>1090</td>\n",
       "      <td>58</td>\n",
       "      <td>192</td>\n",
       "      <td>7950</td>\n",
       "      <td>600</td>\n",
       "      <td>35</td>\n",
       "      <td>40</td>\n",
       "      <td>3</td>\n",
       "    </tr>\n",
       "    <tr>\n",
       "      <th>459</th>\n",
       "      <td>Umbria</td>\n",
       "      <td>3</td>\n",
       "      <td>9</td>\n",
       "      <td>1110</td>\n",
       "      <td>75</td>\n",
       "      <td>220</td>\n",
       "      <td>7915</td>\n",
       "      <td>510</td>\n",
       "      <td>55</td>\n",
       "      <td>65</td>\n",
       "      <td>2</td>\n",
       "    </tr>\n",
       "    <tr>\n",
       "      <th>414</th>\n",
       "      <td>Coast-Sardinia</td>\n",
       "      <td>2</td>\n",
       "      <td>6</td>\n",
       "      <td>1141</td>\n",
       "      <td>95</td>\n",
       "      <td>250</td>\n",
       "      <td>7035</td>\n",
       "      <td>1388</td>\n",
       "      <td>22</td>\n",
       "      <td>68</td>\n",
       "      <td>2</td>\n",
       "    </tr>\n",
       "    <tr>\n",
       "      <th>454</th>\n",
       "      <td>Umbria</td>\n",
       "      <td>3</td>\n",
       "      <td>9</td>\n",
       "      <td>1090</td>\n",
       "      <td>60</td>\n",
       "      <td>198</td>\n",
       "      <td>7945</td>\n",
       "      <td>600</td>\n",
       "      <td>32</td>\n",
       "      <td>35</td>\n",
       "      <td>2</td>\n",
       "    </tr>\n",
       "    <tr>\n",
       "      <th>293</th>\n",
       "      <td>South-Apulia</td>\n",
       "      <td>1</td>\n",
       "      <td>3</td>\n",
       "      <td>1283</td>\n",
       "      <td>153</td>\n",
       "      <td>196</td>\n",
       "      <td>7107</td>\n",
       "      <td>1115</td>\n",
       "      <td>37</td>\n",
       "      <td>60</td>\n",
       "      <td>28</td>\n",
       "    </tr>\n",
       "    <tr>\n",
       "      <th>18</th>\n",
       "      <td>North-Apulia</td>\n",
       "      <td>1</td>\n",
       "      <td>1</td>\n",
       "      <td>961</td>\n",
       "      <td>70</td>\n",
       "      <td>195</td>\n",
       "      <td>7958</td>\n",
       "      <td>742</td>\n",
       "      <td>46</td>\n",
       "      <td>75</td>\n",
       "      <td>30</td>\n",
       "    </tr>\n",
       "  </tbody>\n",
       "</table>\n",
       "</div>"
      ],
      "text/plain": [
       "           areaname  region  area  palmitic  palmitoleic  stearic  oleic  \\\n",
       "268          Sicily       1     4      1284           93      265   7235   \n",
       "275          Sicily       1     4      1303          100      251   7045   \n",
       "193    South-Apulia       1     3      1447          236      245   6607   \n",
       "145    South-Apulia       1     3      1413          202      205   6920   \n",
       "435          Umbria       3     9      1090           58      192   7950   \n",
       "459          Umbria       3     9      1110           75      220   7915   \n",
       "414  Coast-Sardinia       2     6      1141           95      250   7035   \n",
       "454          Umbria       3     9      1090           60      198   7945   \n",
       "293    South-Apulia       1     3      1283          153      196   7107   \n",
       "18     North-Apulia       1     1       961           70      195   7958   \n",
       "\n",
       "     linoleic  linolenic  arachidic  eicosenoic  \n",
       "268       893         43         77          46  \n",
       "275      1049         40         86          40  \n",
       "193      1336         33         51          21  \n",
       "145      1165         36         46          13  \n",
       "435       600         35         40           3  \n",
       "459       510         55         65           2  \n",
       "414      1388         22         68           2  \n",
       "454       600         32         35           2  \n",
       "293      1115         37         60          28  \n",
       "18        742         46         75          30  "
      ]
     },
     "execution_count": 4,
     "metadata": {},
     "output_type": "execute_result"
    }
   ],
   "source": [
    "# The dataset\n",
    "df=pd.read_csv(\"olive.csv\")\n",
    "df.rename(columns={df.columns[0]:'areaname'}, inplace=True)\n",
    "df.areaname=df.areaname.map(lambda x: x.split('.')[-1])\n",
    "df.sample(50).head(10)"
   ]
  },
  {
   "cell_type": "markdown",
   "metadata": {},
   "source": [
    "## 1. LDA"
   ]
  },
  {
   "cell_type": "code",
   "execution_count": 3,
   "metadata": {
    "collapsed": true
   },
   "outputs": [],
   "source": [
    "from sklearn.discriminant_analysis import LinearDiscriminantAnalysis\n"
   ]
  },
  {
   "cell_type": "markdown",
   "metadata": {},
   "source": [
    "## 2. Logistic Regression"
   ]
  },
  {
   "cell_type": "code",
   "execution_count": 4,
   "metadata": {
    "collapsed": true
   },
   "outputs": [],
   "source": [
    "from sklearn.linear_model import LogisticRegression"
   ]
  },
  {
   "cell_type": "markdown",
   "metadata": {},
   "source": [
    "## 3. SVM"
   ]
  },
  {
   "cell_type": "code",
   "execution_count": null,
   "metadata": {
    "collapsed": true
   },
   "outputs": [],
   "source": [
    "tot = .85 * 7 + "
   ]
  },
  {
   "cell_type": "markdown",
   "metadata": {},
   "source": [
    "## 4. k-NN"
   ]
  },
  {
   "cell_type": "code",
   "execution_count": null,
   "metadata": {
    "collapsed": true
   },
   "outputs": [],
   "source": [
    "from sklearn.neighbors import KNeighborsClassifier"
   ]
  },
  {
   "cell_type": "markdown",
   "metadata": {},
   "source": [
    "## 5. Random Forest"
   ]
  },
  {
   "cell_type": "code",
   "execution_count": null,
   "metadata": {
    "collapsed": true
   },
   "outputs": [],
   "source": [
    "from sklearn.ensemble import RandomForestClassifier\n"
   ]
  }
 ],
 "metadata": {
  "kernelspec": {
   "display_name": "Python 3",
   "language": "python",
   "name": "python3"
  },
  "language_info": {
   "codemirror_mode": {
    "name": "ipython",
    "version": 3
   },
   "file_extension": ".py",
   "mimetype": "text/x-python",
   "name": "python",
   "nbconvert_exporter": "python",
   "pygments_lexer": "ipython3",
   "version": "3.6.2"
  }
 },
 "nbformat": 4,
 "nbformat_minor": 2
}
