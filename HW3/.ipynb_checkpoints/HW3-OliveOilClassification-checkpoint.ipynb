{
 "cells": [
  {
   "cell_type": "markdown",
   "metadata": {},
   "source": [
    "# HW3: Task\n",
    "Predict the region and area (or areaname) of olive oils based on their fatty acid contents.source \n",
    "\n",
    "The task's source is http://www.ggobi.org/book/\n",
    "\n",
    "Fit and evaluate the classification predictions of LDA, LogisticRegression, SVM, k-NN, and \n",
    "Random Forests for both the region and area.\n",
    "\n",
    "### 20 pts for each classifier\n",
    "\n",
    "You may use the Classification Jupyter Notebook Dr. Kalpakis prepared for the class."
   ]
  },
  {
   "cell_type": "markdown",
   "metadata": {},
   "source": [
    "## Dataset description and data"
   ]
  },
  {
   "cell_type": "code",
   "execution_count": 1,
   "metadata": {},
   "outputs": [
    {
     "data": {
      "text/html": [
       "\n",
       "        <iframe\n",
       "            width=\"100\"\n",
       "            height=\"100\"\n",
       "            src=\"OliveOil2.pdf?embed=True\"\n",
       "            frameborder=\"0\"\n",
       "            allowfullscreen\n",
       "        ></iframe>\n",
       "        "
      ],
      "text/plain": [
       "<IPython.lib.display.IFrame at 0x110ffd6a0>"
      ]
     },
     "execution_count": 1,
     "metadata": {},
     "output_type": "execute_result"
    }
   ],
   "source": [
    "from IPython.display import IFrame\n",
    "IFrame(\"OliveOil2.pdf\", height=100, width=100, embed=True)"
   ]
  },
  {
   "cell_type": "code",
   "execution_count": 2,
   "metadata": {
    "collapsed": true
   },
   "outputs": [],
   "source": [
    "%matplotlib inline\n",
    "import pandas as pd\n",
    "import numpy as np"
   ]
  },
  {
   "cell_type": "code",
   "execution_count": 104,
   "metadata": {
    "scrolled": true
   },
   "outputs": [
    {
     "data": {
      "text/html": [
       "<div>\n",
       "<style>\n",
       "    .dataframe thead tr:only-child th {\n",
       "        text-align: right;\n",
       "    }\n",
       "\n",
       "    .dataframe thead th {\n",
       "        text-align: left;\n",
       "    }\n",
       "\n",
       "    .dataframe tbody tr th {\n",
       "        vertical-align: top;\n",
       "    }\n",
       "</style>\n",
       "<table border=\"1\" class=\"dataframe\">\n",
       "  <thead>\n",
       "    <tr style=\"text-align: right;\">\n",
       "      <th></th>\n",
       "      <th>areaname</th>\n",
       "      <th>region</th>\n",
       "      <th>area</th>\n",
       "      <th>palmitic</th>\n",
       "      <th>palmitoleic</th>\n",
       "      <th>stearic</th>\n",
       "      <th>oleic</th>\n",
       "      <th>linoleic</th>\n",
       "      <th>linolenic</th>\n",
       "      <th>arachidic</th>\n",
       "      <th>eicosenoic</th>\n",
       "    </tr>\n",
       "  </thead>\n",
       "  <tbody>\n",
       "    <tr>\n",
       "      <th>90</th>\n",
       "      <td>South-Apulia</td>\n",
       "      <td>1</td>\n",
       "      <td>3</td>\n",
       "      <td>1286</td>\n",
       "      <td>192</td>\n",
       "      <td>203</td>\n",
       "      <td>7132</td>\n",
       "      <td>1053</td>\n",
       "      <td>38</td>\n",
       "      <td>65</td>\n",
       "      <td>28</td>\n",
       "    </tr>\n",
       "    <tr>\n",
       "      <th>18</th>\n",
       "      <td>North-Apulia</td>\n",
       "      <td>1</td>\n",
       "      <td>1</td>\n",
       "      <td>961</td>\n",
       "      <td>70</td>\n",
       "      <td>195</td>\n",
       "      <td>7958</td>\n",
       "      <td>742</td>\n",
       "      <td>46</td>\n",
       "      <td>75</td>\n",
       "      <td>30</td>\n",
       "    </tr>\n",
       "    <tr>\n",
       "      <th>360</th>\n",
       "      <td>Inland-Sardinia</td>\n",
       "      <td>2</td>\n",
       "      <td>5</td>\n",
       "      <td>1096</td>\n",
       "      <td>84</td>\n",
       "      <td>211</td>\n",
       "      <td>7415</td>\n",
       "      <td>1091</td>\n",
       "      <td>30</td>\n",
       "      <td>71</td>\n",
       "      <td>2</td>\n",
       "    </tr>\n",
       "    <tr>\n",
       "      <th>154</th>\n",
       "      <td>South-Apulia</td>\n",
       "      <td>1</td>\n",
       "      <td>3</td>\n",
       "      <td>1457</td>\n",
       "      <td>168</td>\n",
       "      <td>242</td>\n",
       "      <td>6724</td>\n",
       "      <td>1266</td>\n",
       "      <td>54</td>\n",
       "      <td>59</td>\n",
       "      <td>30</td>\n",
       "    </tr>\n",
       "    <tr>\n",
       "      <th>373</th>\n",
       "      <td>Coast-Sardinia</td>\n",
       "      <td>2</td>\n",
       "      <td>6</td>\n",
       "      <td>1160</td>\n",
       "      <td>96</td>\n",
       "      <td>240</td>\n",
       "      <td>7043</td>\n",
       "      <td>1357</td>\n",
       "      <td>24</td>\n",
       "      <td>79</td>\n",
       "      <td>2</td>\n",
       "    </tr>\n",
       "    <tr>\n",
       "      <th>316</th>\n",
       "      <td>South-Apulia</td>\n",
       "      <td>1</td>\n",
       "      <td>3</td>\n",
       "      <td>1693</td>\n",
       "      <td>236</td>\n",
       "      <td>174</td>\n",
       "      <td>6499</td>\n",
       "      <td>1204</td>\n",
       "      <td>51</td>\n",
       "      <td>102</td>\n",
       "      <td>37</td>\n",
       "    </tr>\n",
       "    <tr>\n",
       "      <th>292</th>\n",
       "      <td>Sicily</td>\n",
       "      <td>1</td>\n",
       "      <td>4</td>\n",
       "      <td>1262</td>\n",
       "      <td>88</td>\n",
       "      <td>301</td>\n",
       "      <td>7471</td>\n",
       "      <td>704</td>\n",
       "      <td>43</td>\n",
       "      <td>71</td>\n",
       "      <td>31</td>\n",
       "    </tr>\n",
       "    <tr>\n",
       "      <th>183</th>\n",
       "      <td>South-Apulia</td>\n",
       "      <td>1</td>\n",
       "      <td>3</td>\n",
       "      <td>1388</td>\n",
       "      <td>176</td>\n",
       "      <td>185</td>\n",
       "      <td>7008</td>\n",
       "      <td>1111</td>\n",
       "      <td>48</td>\n",
       "      <td>53</td>\n",
       "      <td>31</td>\n",
       "    </tr>\n",
       "    <tr>\n",
       "      <th>41</th>\n",
       "      <td>Calabria</td>\n",
       "      <td>1</td>\n",
       "      <td>2</td>\n",
       "      <td>1261</td>\n",
       "      <td>121</td>\n",
       "      <td>312</td>\n",
       "      <td>7238</td>\n",
       "      <td>877</td>\n",
       "      <td>47</td>\n",
       "      <td>65</td>\n",
       "      <td>25</td>\n",
       "    </tr>\n",
       "    <tr>\n",
       "      <th>411</th>\n",
       "      <td>Coast-Sardinia</td>\n",
       "      <td>2</td>\n",
       "      <td>6</td>\n",
       "      <td>1076</td>\n",
       "      <td>77</td>\n",
       "      <td>202</td>\n",
       "      <td>7243</td>\n",
       "      <td>1305</td>\n",
       "      <td>29</td>\n",
       "      <td>67</td>\n",
       "      <td>1</td>\n",
       "    </tr>\n",
       "  </tbody>\n",
       "</table>\n",
       "</div>"
      ],
      "text/plain": [
       "            areaname  region  area  palmitic  palmitoleic  stearic  oleic  \\\n",
       "90      South-Apulia       1     3      1286          192      203   7132   \n",
       "18      North-Apulia       1     1       961           70      195   7958   \n",
       "360  Inland-Sardinia       2     5      1096           84      211   7415   \n",
       "154     South-Apulia       1     3      1457          168      242   6724   \n",
       "373   Coast-Sardinia       2     6      1160           96      240   7043   \n",
       "316     South-Apulia       1     3      1693          236      174   6499   \n",
       "292           Sicily       1     4      1262           88      301   7471   \n",
       "183     South-Apulia       1     3      1388          176      185   7008   \n",
       "41          Calabria       1     2      1261          121      312   7238   \n",
       "411   Coast-Sardinia       2     6      1076           77      202   7243   \n",
       "\n",
       "     linoleic  linolenic  arachidic  eicosenoic  \n",
       "90       1053         38         65          28  \n",
       "18        742         46         75          30  \n",
       "360      1091         30         71           2  \n",
       "154      1266         54         59          30  \n",
       "373      1357         24         79           2  \n",
       "316      1204         51        102          37  \n",
       "292       704         43         71          31  \n",
       "183      1111         48         53          31  \n",
       "41        877         47         65          25  \n",
       "411      1305         29         67           1  "
      ]
     },
     "execution_count": 104,
     "metadata": {},
     "output_type": "execute_result"
    }
   ],
   "source": [
    "# The dataset\n",
    "df=pd.read_csv(\"olive.csv\")\n",
    "df.rename(columns={df.columns[0]:'areaname'}, inplace=True)\n",
    "df.areaname=df.areaname.map(lambda x: x.split('.')[-1])\n",
    "df_cp = df.copy()\n",
    "df.sample(50).head(10)s"
   ]
  },
  {
   "cell_type": "markdown",
   "metadata": {},
   "source": [
    " ## DataFrame creation and copying"
   ]
  },
  {
   "cell_type": "code",
   "execution_count": 105,
   "metadata": {},
   "outputs": [],
   "source": [
    "#Define sample size\n",
    "SAMPLE_SIZE = 40\n",
    "df = df_cp\n",
    "#Areas dictionary\n",
    "area_names = {1:\"North-Apulia\", 2:\"Calabria\", 3:\"South-Apulia\", 4:\"Sicily\", 5:\"Inland-Sardinia\", 6:\"Coast-Sardinia\", 7:\"East-Liguria\", 8:\"West-Liguria\", 9:\"Umbria\"}\n",
    "\n",
    "#Create new DataFrames\n",
    "fats = pd.DataFrame(columns=['palmitic', 'palmitoleic', 'stearic', 'oleic', 'linoleic', 'linolenic', 'arachidic', 'eicosenoic'])\n",
    "regions = pd.DataFrame(columns=['region'])\n",
    "areas = pd.DataFrame(columns=['area'])\n",
    "\n",
    "#Remove data for sampling\n",
    "train_fats = pd.DataFrame(columns=['palmitic', 'palmitoleic', 'stearic', 'oleic', 'linoleic', 'linolenic', 'arachidic', 'eicosenoic'])\n",
    "train_regions = pd.DataFrame(columns=['region'])\n",
    "train_areas = pd.DataFrame(columns=['area'])\n",
    "\n",
    "#Get sample and train data\n",
    "train = df.sample(SAMPLE_SIZE)\n",
    "df.drop(train.index, inplace=True)\n",
    "\n",
    "#Train fats copy \n",
    "train_fats.palmitic = train.palmitic.copy()\n",
    "train_fats.palmitoleic = train.palmitoleic.copy()\n",
    "train_fats.stearic = train.stearic.copy()\n",
    "train_fats.oleic = train.oleic.copy()\n",
    "train_fats.linoleic = train.linoleic.copy()\n",
    "train_fats.linolenic = train.linolenic.copy()\n",
    "train_fats.arachidic = train.arachidic.copy()\n",
    "train_fats.eicosenoic = train.eicosenoic.copy()\n",
    "\n",
    "#Train regions data copy\n",
    "train_regions.region = train.region.copy()\n",
    "\n",
    "#Train areas data copy\n",
    "train_areas.area = train.area.copy()\n",
    "\n",
    "#Make matrices out of data\n",
    "ar_areas = train_areas.as_matrix()\n",
    "ar_regions = train_regions.as_matrix()\n",
    "\n",
    "#Split fats away from labels\n",
    "#Copy to new Data Frames\n",
    "fats.palmitic = df.palmitic.copy()\n",
    "fats.palmitoleic = df.palmitoleic.copy()\n",
    "fats.stearic = df.stearic.copy()\n",
    "fats.oleic = df.oleic.copy()\n",
    "fats.linoleic = df.linoleic.copy()\n",
    "fats.linolenic = df.linolenic.copy()\n",
    "fats.arachidic = df.arachidic.copy()\n",
    "fats.eicosenoic = df.eicosenoic.copy()\n",
    "\n",
    "#Regions data copy\n",
    "regions.region = df.region.copy()\n",
    "\n",
    "#Areas data copy\n",
    "areas.area = df.area.copy()\n",
    "\n",
    "#5 test points\n",
    "points = [[1140, 90, 240, 7880, 570, 20, 60, 3],   #East-Liguria - 3 \n",
    "          [1166, 97, 272, 6971, 1390, 20, 83, 3],  # Coast-Sardinia - 2\n",
    "          [1051, 78, 211, 7421, 1146, 30, 82, 2],  # Inland-Sardinia - 2\n",
    "          [1264, 167, 166, 7130, 1187, 22, 52, 12],#South Apulia - 1\n",
    "          [1095, 58, 198, 7945, 600, 35, 34, 1]]   #Umbria - 3 \n",
    "\n"
   ]
  },
  {
   "cell_type": "markdown",
   "metadata": {},
   "source": [
    "## 1. LDA\n",
    "\n",
    "### Predicting Areas"
   ]
  },
  {
   "cell_type": "code",
   "execution_count": 117,
   "metadata": {},
   "outputs": [
    {
     "name": "stdout",
     "output_type": "stream",
     "text": [
      "-- Results --\n",
      "Right # = 38\n",
      "Wrong # = 2\n",
      "Correct = 95.0 %\n"
     ]
    }
   ],
   "source": [
    "from sklearn.discriminant_analysis import LinearDiscriminantAnalysis\n",
    "\n",
    "clf = LinearDiscriminantAnalysis()\n",
    "clf.fit(fats.as_matrix(), areas.area)\n",
    "\n",
    "i = 0\n",
    "correct = 0\n",
    "wrong = 0\n",
    "\n",
    "\n",
    "for point in train_fats.as_matrix():\n",
    "    name = area_names[clf.predict([point])[0]]\n",
    "    #print(\"Point: \", point, \" - Area: \", name)  \n",
    "    if(name == area_names[ar_areas[i][0]]):\n",
    "        correct += 1\n",
    "    else:\n",
    "        wrong += 1\n",
    "    i+=1\n",
    "\n",
    "print(\"-- Results --\")\n",
    "print(\"Right # =\", correct)\n",
    "print(\"Wrong # =\", wrong)\n",
    "print(\"Correct =\", (correct / SAMPLE_SIZE) * 100,\"%\")"
   ]
  },
  {
   "cell_type": "markdown",
   "metadata": {},
   "source": [
    " ## 1. LDA\n",
    " \n",
    " ### Predicting Regions"
   ]
  },
  {
   "cell_type": "code",
   "execution_count": 118,
   "metadata": {},
   "outputs": [
    {
     "name": "stdout",
     "output_type": "stream",
     "text": [
      "-- Results --\n",
      "Right # = 40\n",
      "Wrong # = 0\n",
      "Correct = 100.0 %\n"
     ]
    }
   ],
   "source": [
    "clf = LinearDiscriminantAnalysis()\n",
    "clf.fit(fats.as_matrix(), regions.region)\n",
    "\n",
    "\n",
    "i = 0\n",
    "correct = 0\n",
    "wrong = 0\n",
    "\n",
    "\n",
    "for point in train_fats.as_matrix():\n",
    "    name = clf.predict([point])[0]\n",
    "    if(name == ar_regions[i][0]):\n",
    "        correct += 1\n",
    "    else:\n",
    "        wrong += 1\n",
    "    i+=1\n",
    "\n",
    "print(\"-- Results --\")\n",
    "print(\"Right # =\", correct)\n",
    "print(\"Wrong # =\", wrong)\n",
    "print(\"Correct =\", (correct / SAMPLE_SIZE) * 100,\"%\")"
   ]
  },
  {
   "cell_type": "markdown",
   "metadata": {},
   "source": [
    "## 2. Logistic Regression\n",
    "### Predicting areas"
   ]
  },
  {
   "cell_type": "code",
   "execution_count": 120,
   "metadata": {},
   "outputs": [
    {
     "name": "stdout",
     "output_type": "stream",
     "text": [
      "-- Results --\n",
      "Right # = 39\n",
      "Wrong # = 1\n",
      "Correct = 97.5 %\n"
     ]
    }
   ],
   "source": [
    "from sklearn.linear_model import LogisticRegression\n",
    "\n",
    "lr = LogisticRegression()\n",
    "lr.fit(fats.as_matrix(), areas.area)\n",
    "\n",
    "i = 0\n",
    "correct = 0\n",
    "wrong = 0\n",
    "\n",
    "\n",
    "for point in train_fats.as_matrix():\n",
    "    name = area_names[lr.predict([point])[0]]\n",
    "    #print(\"Point: \", point, \" - Area: \", name)  \n",
    "    if(name == area_names[ar_areas[i][0]]):\n",
    "        correct += 1\n",
    "    else:\n",
    "        wrong += 1\n",
    "    i+=1\n",
    "\n",
    "print(\"-- Results --\")\n",
    "print(\"Right # =\", correct)\n",
    "print(\"Wrong # =\", wrong)\n",
    "print(\"Correct =\", (correct / SAMPLE_SIZE) * 100,\"%\")"
   ]
  },
  {
   "cell_type": "markdown",
   "metadata": {},
   "source": [
    "## 2. Logistic Regression\n",
    "### Predicting regions"
   ]
  },
  {
   "cell_type": "code",
   "execution_count": 121,
   "metadata": {},
   "outputs": [
    {
     "name": "stdout",
     "output_type": "stream",
     "text": [
      "-- Results --\n",
      "Right # = 40\n",
      "Wrong # = 0\n",
      "Correct = 100.0 %\n"
     ]
    }
   ],
   "source": [
    "lr = LogisticRegression()\n",
    "lr.fit(fats.as_matrix(), regions.region)\n",
    "\n",
    "i = 0\n",
    "correct = 0\n",
    "wrong = 0\n",
    "\n",
    "\n",
    "for point in train_fats.as_matrix():\n",
    "    name = lr.predict([point])[0]\n",
    "    if(name == ar_regions[i][0]):\n",
    "        correct += 1\n",
    "    else:\n",
    "        wrong += 1\n",
    "    i+=1\n",
    "\n",
    "print(\"-- Results --\")\n",
    "print(\"Right # =\", correct)\n",
    "print(\"Wrong # =\", wrong)\n",
    "print(\"Correct =\", (correct / SAMPLE_SIZE) * 100,\"%\")"
   ]
  },
  {
   "cell_type": "markdown",
   "metadata": {},
   "source": [
    "## 3. SVM\n",
    "### Predict areas"
   ]
  },
  {
   "cell_type": "code",
   "execution_count": 125,
   "metadata": {},
   "outputs": [
    {
     "name": "stdout",
     "output_type": "stream",
     "text": [
      "-- Results --\n",
      "Right # = 13\n",
      "Wrong # = 27\n",
      "Correct = 32.5 %\n"
     ]
    }
   ],
   "source": [
    "from sklearn import svm\n",
    "\n",
    "sm = svm.SVC()\n",
    "sm.fit(fats.as_matrix(), areas.area)\n",
    "\n",
    "i = 0\n",
    "correct = 0\n",
    "wrong = 0\n",
    "\n",
    "\n",
    "for point in train_fats.as_matrix():\n",
    "    name = area_names[sm.predict([point])[0]]\n",
    "    #print(\"Point: \", point, \" - Area: \", name)  \n",
    "    if(name == area_names[ar_areas[i][0]]):\n",
    "        correct += 1\n",
    "    else:\n",
    "        wrong += 1\n",
    "    i+=1\n",
    "\n",
    "print(\"-- Results --\")\n",
    "print(\"Right # =\", correct)\n",
    "print(\"Wrong # =\", wrong)\n",
    "print(\"Correct =\", (correct / SAMPLE_SIZE) * 100,\"%\")  "
   ]
  },
  {
   "cell_type": "markdown",
   "metadata": {},
   "source": [
    "## 3. SVM\n",
    "### Predict regions"
   ]
  },
  {
   "cell_type": "code",
   "execution_count": 127,
   "metadata": {},
   "outputs": [
    {
     "name": "stdout",
     "output_type": "stream",
     "text": [
      "-- Results --\n",
      "Right # = 21\n",
      "Wrong # = 19\n",
      "Correct = 52.5 %\n"
     ]
    }
   ],
   "source": [
    "sm = svm.SVC()\n",
    "sm.fit(fats.as_matrix(), regions.region)\n",
    "\n",
    "i = 0\n",
    "correct = 0\n",
    "wrong = 0\n",
    "\n",
    "\n",
    "for point in train_fats.as_matrix():\n",
    "    name = sm.predict([point])[0]\n",
    "    if(name == ar_regions[i][0]):\n",
    "        correct += 1\n",
    "    else:\n",
    "        wrong += 1\n",
    "    i+=1\n",
    "\n",
    "print(\"-- Results --\")\n",
    "print(\"Right # =\", correct)\n",
    "print(\"Wrong # =\", wrong)\n",
    "print(\"Correct =\", (correct / SAMPLE_SIZE) * 100,\"%\")"
   ]
  },
  {
   "cell_type": "markdown",
   "metadata": {},
   "source": [
    "## 4. k-NN\n",
    "### Predict areas"
   ]
  },
  {
   "cell_type": "code",
   "execution_count": 130,
   "metadata": {},
   "outputs": [
    {
     "name": "stdout",
     "output_type": "stream",
     "text": [
      "-- Results --\n",
      "Right # = 36\n",
      "Wrong # = 4\n",
      "Correct = 90.0 %\n"
     ]
    }
   ],
   "source": [
    "from sklearn.neighbors import KNeighborsClassifier\n",
    "knn = KNeighborsClassifier(n_neighbors=5)\n",
    "knn.fit(fats.as_matrix(), areas.area) \n",
    "\n",
    "\n",
    "i = 0\n",
    "correct = 0\n",
    "wrong = 0\n",
    "\n",
    "\n",
    "for point in train_fats.as_matrix():\n",
    "    name = area_names[knn.predict([point])[0]]\n",
    "    #print(\"Point: \", point, \" - Area: \", name)  \n",
    "    if(name == area_names[ar_areas[i][0]]):\n",
    "        correct += 1\n",
    "    else:\n",
    "        wrong += 1\n",
    "    i+=1\n",
    "\n",
    "print(\"-- Results --\")\n",
    "print(\"Right # =\", correct)\n",
    "print(\"Wrong # =\", wrong)\n",
    "print(\"Correct =\", (correct / SAMPLE_SIZE) * 100,\"%\")"
   ]
  },
  {
   "cell_type": "markdown",
   "metadata": {},
   "source": [
    "## 4. k-NN\n",
    "### Predict regions"
   ]
  },
  {
   "cell_type": "code",
   "execution_count": 131,
   "metadata": {},
   "outputs": [
    {
     "name": "stdout",
     "output_type": "stream",
     "text": [
      "-- Results --\n",
      "Right # = 39\n",
      "Wrong # = 1\n",
      "Correct = 97.5 %\n"
     ]
    }
   ],
   "source": [
    "knn = KNeighborsClassifier(n_neighbors=3)\n",
    "knn.fit(fats.as_matrix(), regions.region) \n",
    "\n",
    "i = 0\n",
    "correct = 0\n",
    "wrong = 0\n",
    "\n",
    "\n",
    "for point in train_fats.as_matrix():\n",
    "    name = knn.predict([point])[0]\n",
    "    if(name == ar_regions[i][0]):\n",
    "        correct += 1\n",
    "    else:\n",
    "        wrong += 1\n",
    "    i+=1\n",
    "\n",
    "print(\"-- Results --\")\n",
    "print(\"Right # =\", correct)\n",
    "print(\"Wrong # =\", wrong)\n",
    "print(\"Correct =\", (correct / SAMPLE_SIZE) * 100,\"%\")"
   ]
  },
  {
   "cell_type": "markdown",
   "metadata": {},
   "source": [
    "## 5. Random Forest\n",
    "### Predict areas"
   ]
  },
  {
   "cell_type": "code",
   "execution_count": 30,
   "metadata": {},
   "outputs": [
    {
     "name": "stdout",
     "output_type": "stream",
     "text": [
      "Point:  [1140, 90, 240, 7880, 570, 20, 60, 3]  - Area:  East-Liguria\n",
      "Point:  [1166, 97, 272, 6971, 1390, 20, 83, 3]  - Area:  Coast-Sardinia\n",
      "Point:  [1051, 78, 211, 7421, 1146, 30, 82, 2]  - Area:  Inland-Sardinia\n",
      "Point:  [1264, 167, 166, 7130, 1187, 22, 52, 12]  - Area:  South-Apulia\n",
      "Point:  [1095, 58, 198, 7945, 600, 35, 34, 1]  - Area:  Umbria\n"
     ]
    }
   ],
   "source": [
    "from sklearn.ensemble import RandomForestClassifier\n",
    "\n",
    "rf = RandomForestClassifier(max_depth=3, random_state=0)\n",
    "rf.fit(fats.as_matrix(), areas.area)\n",
    "\n",
    "\n",
    "i = 0\n",
    "correct = 0\n",
    "wrong = 0\n",
    "\n",
    "\n",
    "for point in train_fats.as_matrix():\n",
    "    name = area_names[rf.predict([point])[0]]\n",
    "    #print(\"Point: \", point, \" - Area: \", name)  \n",
    "    if(name == area_names[ar_areas[i][0]]):\n",
    "        correct += 1\n",
    "    else:\n",
    "        wrong += 1\n",
    "    i+=1\n",
    "\n",
    "print(\"-- Results --\")\n",
    "print(\"Right # =\", correct)\n",
    "print(\"Wrong # =\", wrong)\n",
    "print(\"Correct =\", (correct / SAMPLE_SIZE) * 100,\"%\")     \n"
   ]
  },
  {
   "cell_type": "markdown",
   "metadata": {},
   "source": [
    "## 5. Random Forest\n",
    "### Predict regions"
   ]
  },
  {
   "cell_type": "code",
   "execution_count": 32,
   "metadata": {},
   "outputs": [
    {
     "name": "stdout",
     "output_type": "stream",
     "text": [
      "Point:  [1140, 90, 240, 7880, 570, 20, 60, 3]  - Region:  3\n",
      "Point:  [1166, 97, 272, 6971, 1390, 20, 83, 3]  - Region:  2\n",
      "Point:  [1051, 78, 211, 7421, 1146, 30, 82, 2]  - Region:  2\n",
      "Point:  [1264, 167, 166, 7130, 1187, 22, 52, 12]  - Region:  1\n",
      "Point:  [1095, 58, 198, 7945, 600, 35, 34, 1]  - Region:  3\n"
     ]
    }
   ],
   "source": [
    "rf = RandomForestClassifier(max_depth=3, random_state=0)\n",
    "rf.fit(fats.as_matrix(), regions.region)\n",
    "\n",
    "i = 0\n",
    "correct = 0\n",
    "wrong = 0\n",
    "\n",
    "\n",
    "for point in train_fats.as_matrix():\n",
    "    name = rf.predict([point])[0]\n",
    "    if(name == ar_regions[i][0]):\n",
    "        correct += 1\n",
    "    else:\n",
    "        wrong += 1\n",
    "    i+=1\n",
    "\n",
    "print(\"-- Results --\")\n",
    "print(\"Right # =\", correct)\n",
    "print(\"Wrong # =\", wrong)\n",
    "print(\"Correct =\", (correct / SAMPLE_SIZE) * 100,\"%\")"
   ]
  }
 ],
 "metadata": {
  "kernelspec": {
   "display_name": "Python 3",
   "language": "python",
   "name": "python3"
  },
  "language_info": {
   "codemirror_mode": {
    "name": "ipython",
    "version": 3
   },
   "file_extension": ".py",
   "mimetype": "text/x-python",
   "name": "python",
   "nbconvert_exporter": "python",
   "pygments_lexer": "ipython3",
   "version": "3.6.2"
  }
 },
 "nbformat": 4,
 "nbformat_minor": 2
}
