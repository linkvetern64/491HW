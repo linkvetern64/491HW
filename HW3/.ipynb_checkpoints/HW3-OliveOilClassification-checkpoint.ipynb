{
 "cells": [
  {
   "cell_type": "markdown",
   "metadata": {},
   "source": [
    "# HW3: Task\n",
    "Predict the region and area (or areaname) of olive oils based on their fatty acid contents.source \n",
    "\n",
    "The task's source is http://www.ggobi.org/book/\n",
    "\n",
    "Fit and evaluate the classification predictions of LDA, LogisticRegression, SVM, k-NN, and \n",
    "Random Forests for both the region and area.\n",
    "\n",
    "### 20 pts for each classifier\n",
    "\n",
    "You may use the Classification Jupyter Notebook Dr. Kalpakis prepared for the class."
   ]
  },
  {
   "cell_type": "markdown",
   "metadata": {},
   "source": [
    "## Dataset description and data"
   ]
  },
  {
   "cell_type": "code",
   "execution_count": 4,
   "metadata": {},
   "outputs": [
    {
     "data": {
      "text/html": [
       "\n",
       "        <iframe\n",
       "            width=\"100\"\n",
       "            height=\"100\"\n",
       "            src=\"OliveOil2.pdf?embed=True\"\n",
       "            frameborder=\"0\"\n",
       "            allowfullscreen\n",
       "        ></iframe>\n",
       "        "
      ],
      "text/plain": [
       "<IPython.lib.display.IFrame at 0x22f826d9940>"
      ]
     },
     "execution_count": 4,
     "metadata": {},
     "output_type": "execute_result"
    }
   ],
   "source": [
    "from IPython.display import IFrame\n",
    "IFrame(\"OliveOil2.pdf\", height=100, width=100, embed=True)"
   ]
  },
  {
   "cell_type": "code",
   "execution_count": 5,
   "metadata": {
    "collapsed": true
   },
   "outputs": [],
   "source": [
    "%matplotlib inline\n",
    "import pandas as pd\n",
    "import numpy as np"
   ]
  },
  {
   "cell_type": "code",
   "execution_count": 6,
   "metadata": {
    "scrolled": true
   },
   "outputs": [
    {
     "data": {
      "text/html": [
       "<div>\n",
       "<style>\n",
       "    .dataframe thead tr:only-child th {\n",
       "        text-align: right;\n",
       "    }\n",
       "\n",
       "    .dataframe thead th {\n",
       "        text-align: left;\n",
       "    }\n",
       "\n",
       "    .dataframe tbody tr th {\n",
       "        vertical-align: top;\n",
       "    }\n",
       "</style>\n",
       "<table border=\"1\" class=\"dataframe\">\n",
       "  <thead>\n",
       "    <tr style=\"text-align: right;\">\n",
       "      <th></th>\n",
       "      <th>areaname</th>\n",
       "      <th>region</th>\n",
       "      <th>area</th>\n",
       "      <th>palmitic</th>\n",
       "      <th>palmitoleic</th>\n",
       "      <th>stearic</th>\n",
       "      <th>oleic</th>\n",
       "      <th>linoleic</th>\n",
       "      <th>linolenic</th>\n",
       "      <th>arachidic</th>\n",
       "      <th>eicosenoic</th>\n",
       "    </tr>\n",
       "  </thead>\n",
       "  <tbody>\n",
       "    <tr>\n",
       "      <th>313</th>\n",
       "      <td>South-Apulia</td>\n",
       "      <td>1</td>\n",
       "      <td>3</td>\n",
       "      <td>1753</td>\n",
       "      <td>275</td>\n",
       "      <td>236</td>\n",
       "      <td>6367</td>\n",
       "      <td>1214</td>\n",
       "      <td>23</td>\n",
       "      <td>61</td>\n",
       "      <td>27</td>\n",
       "    </tr>\n",
       "    <tr>\n",
       "      <th>159</th>\n",
       "      <td>South-Apulia</td>\n",
       "      <td>1</td>\n",
       "      <td>3</td>\n",
       "      <td>1510</td>\n",
       "      <td>189</td>\n",
       "      <td>245</td>\n",
       "      <td>6752</td>\n",
       "      <td>1188</td>\n",
       "      <td>36</td>\n",
       "      <td>52</td>\n",
       "      <td>28</td>\n",
       "    </tr>\n",
       "    <tr>\n",
       "      <th>61</th>\n",
       "      <td>Calabria</td>\n",
       "      <td>1</td>\n",
       "      <td>2</td>\n",
       "      <td>1132</td>\n",
       "      <td>157</td>\n",
       "      <td>240</td>\n",
       "      <td>7641</td>\n",
       "      <td>638</td>\n",
       "      <td>45</td>\n",
       "      <td>60</td>\n",
       "      <td>31</td>\n",
       "    </tr>\n",
       "    <tr>\n",
       "      <th>222</th>\n",
       "      <td>South-Apulia</td>\n",
       "      <td>1</td>\n",
       "      <td>3</td>\n",
       "      <td>1451</td>\n",
       "      <td>200</td>\n",
       "      <td>208</td>\n",
       "      <td>6980</td>\n",
       "      <td>1006</td>\n",
       "      <td>30</td>\n",
       "      <td>62</td>\n",
       "      <td>31</td>\n",
       "    </tr>\n",
       "    <tr>\n",
       "      <th>398</th>\n",
       "      <td>Inland-Sardinia</td>\n",
       "      <td>2</td>\n",
       "      <td>5</td>\n",
       "      <td>1065</td>\n",
       "      <td>98</td>\n",
       "      <td>230</td>\n",
       "      <td>7345</td>\n",
       "      <td>1163</td>\n",
       "      <td>24</td>\n",
       "      <td>74</td>\n",
       "      <td>1</td>\n",
       "    </tr>\n",
       "    <tr>\n",
       "      <th>46</th>\n",
       "      <td>Calabria</td>\n",
       "      <td>1</td>\n",
       "      <td>2</td>\n",
       "      <td>1254</td>\n",
       "      <td>118</td>\n",
       "      <td>244</td>\n",
       "      <td>7394</td>\n",
       "      <td>786</td>\n",
       "      <td>46</td>\n",
       "      <td>71</td>\n",
       "      <td>24</td>\n",
       "    </tr>\n",
       "    <tr>\n",
       "      <th>540</th>\n",
       "      <td>West-Liguria</td>\n",
       "      <td>3</td>\n",
       "      <td>8</td>\n",
       "      <td>1240</td>\n",
       "      <td>150</td>\n",
       "      <td>250</td>\n",
       "      <td>7610</td>\n",
       "      <td>730</td>\n",
       "      <td>10</td>\n",
       "      <td>10</td>\n",
       "      <td>1</td>\n",
       "    </tr>\n",
       "    <tr>\n",
       "      <th>208</th>\n",
       "      <td>South-Apulia</td>\n",
       "      <td>1</td>\n",
       "      <td>3</td>\n",
       "      <td>1306</td>\n",
       "      <td>149</td>\n",
       "      <td>226</td>\n",
       "      <td>7082</td>\n",
       "      <td>1097</td>\n",
       "      <td>33</td>\n",
       "      <td>61</td>\n",
       "      <td>24</td>\n",
       "    </tr>\n",
       "    <tr>\n",
       "      <th>330</th>\n",
       "      <td>Inland-Sardinia</td>\n",
       "      <td>2</td>\n",
       "      <td>5</td>\n",
       "      <td>1129</td>\n",
       "      <td>108</td>\n",
       "      <td>212</td>\n",
       "      <td>7386</td>\n",
       "      <td>1074</td>\n",
       "      <td>28</td>\n",
       "      <td>62</td>\n",
       "      <td>3</td>\n",
       "    </tr>\n",
       "    <tr>\n",
       "      <th>472</th>\n",
       "      <td>East-Liguria</td>\n",
       "      <td>3</td>\n",
       "      <td>7</td>\n",
       "      <td>1290</td>\n",
       "      <td>60</td>\n",
       "      <td>260</td>\n",
       "      <td>7550</td>\n",
       "      <td>670</td>\n",
       "      <td>70</td>\n",
       "      <td>100</td>\n",
       "      <td>2</td>\n",
       "    </tr>\n",
       "  </tbody>\n",
       "</table>\n",
       "</div>"
      ],
      "text/plain": [
       "            areaname  region  area  palmitic  palmitoleic  stearic  oleic  \\\n",
       "313     South-Apulia       1     3      1753          275      236   6367   \n",
       "159     South-Apulia       1     3      1510          189      245   6752   \n",
       "61          Calabria       1     2      1132          157      240   7641   \n",
       "222     South-Apulia       1     3      1451          200      208   6980   \n",
       "398  Inland-Sardinia       2     5      1065           98      230   7345   \n",
       "46          Calabria       1     2      1254          118      244   7394   \n",
       "540     West-Liguria       3     8      1240          150      250   7610   \n",
       "208     South-Apulia       1     3      1306          149      226   7082   \n",
       "330  Inland-Sardinia       2     5      1129          108      212   7386   \n",
       "472     East-Liguria       3     7      1290           60      260   7550   \n",
       "\n",
       "     linoleic  linolenic  arachidic  eicosenoic  \n",
       "313      1214         23         61          27  \n",
       "159      1188         36         52          28  \n",
       "61        638         45         60          31  \n",
       "222      1006         30         62          31  \n",
       "398      1163         24         74           1  \n",
       "46        786         46         71          24  \n",
       "540       730         10         10           1  \n",
       "208      1097         33         61          24  \n",
       "330      1074         28         62           3  \n",
       "472       670         70        100           2  "
      ]
     },
     "execution_count": 6,
     "metadata": {},
     "output_type": "execute_result"
    }
   ],
   "source": [
    "# The dataset\n",
    "df=pd.read_csv(\"olive.csv\")\n",
    "df.rename(columns={df.columns[0]:'areaname'}, inplace=True)\n",
    "df.areaname=df.areaname.map(lambda x: x.split('.')[-1])\n",
    "\n",
    "df.sample(50).head(10)\n"
   ]
  },
  {
   "cell_type": "markdown",
   "metadata": {},
   "source": [
    " ## DataFrame creation and copying"
   ]
  },
  {
   "cell_type": "code",
   "execution_count": 17,
   "metadata": {},
   "outputs": [],
   "source": [
    "#Areas dictionary\n",
    "area_names = {1:\"North-Apulia\", 2:\"Calabria\", 3:\"South-Apulia\", 4:\"Sicily\", 5:\"Inland-Sardinia\", 6:\"Coast-Sardinia\", 7:\"East-Liguria\", 8:\"West-Liguria\", 9:\"Umbria\"}\n",
    "\n",
    "#Create new DataFrames\n",
    "fats = pd.DataFrame(columns=['palmitic', 'palmitoleic', 'stearic', 'oleic', 'linoleic', 'linolenic', 'arachidic', 'eicosenoic'])\n",
    "regions = pd.DataFrame(columns=['region'])\n",
    "areas = pd.DataFrame(columns=['area'])\n",
    "\n",
    "#Split fats away from labels\n",
    "#Copy to new Data Frames\n",
    "fats.palmitic = df.palmitic.copy()\n",
    "fats.palmitoleic = df.palmitoleic.copy()\n",
    "fats.stearic = df.stearic.copy()\n",
    "fats.oleic = df.oleic.copy()\n",
    "fats.linoleic = df.linoleic.copy()\n",
    "fats.linolenic = df.linolenic.copy()\n",
    "fats.arachidic = df.arachidic.copy()\n",
    "fats.eicosenoic = df.eicosenoic.copy()\n",
    "\n",
    "#Regions data copy\n",
    "regions.region = df.region.copy()\n",
    "\n",
    "#Areas data copy\n",
    "areas.area = df.area.copy()\n",
    "\n",
    "#5 test points\n",
    "points = [[1140, 90, 240, 7880, 570, 20, 60, 3],   #East-Liguria - 3 \n",
    "          [1166, 97, 272, 6971, 1390, 20, 83, 3],  # Coast-Sardinia - 2\n",
    "          [1051, 78, 211, 7421, 1146, 30, 82, 2],  # Inland-Sardinia - 2\n",
    "          [1264, 167, 166, 7130, 1187, 22, 52, 12],#South Apulia - 1\n",
    "          [1095, 58, 198, 7945, 600, 35, 34, 1]]   #Umbria - 3 \n"
   ]
  },
  {
   "cell_type": "markdown",
   "metadata": {},
   "source": [
    "## 1. LDA\n",
    "\n",
    "### Predicting Areas"
   ]
  },
  {
   "cell_type": "code",
   "execution_count": 25,
   "metadata": {},
   "outputs": [
    {
     "name": "stdout",
     "output_type": "stream",
     "text": [
      "Point:  [1140, 90, 240, 7880, 570, 20, 60, 3]  - Area:  East-Liguria\n",
      "Point:  [1166, 97, 272, 6971, 1390, 20, 83, 3]  - Area:  Coast-Sardinia\n",
      "Point:  [1051, 78, 211, 7421, 1146, 30, 82, 2]  - Area:  Inland-Sardinia\n",
      "Point:  [1264, 167, 166, 7130, 1187, 22, 52, 12]  - Area:  South-Apulia\n",
      "Point:  [1095, 58, 198, 7945, 600, 35, 34, 1]  - Area:  Umbria\n"
     ]
    }
   ],
   "source": [
    "from sklearn.discriminant_analysis import LinearDiscriminantAnalysis\n",
    "\n",
    "clf = LinearDiscriminantAnalysis()\n",
    "clf.fit(fats.as_matrix(), areas.area)\n",
    "\n",
    "#Print test_point names\n",
    "for point in points:\n",
    "   print(\"Point: \", point, \" - Area: \", area_names[clf.predict([point])[0]])    "
   ]
  },
  {
   "cell_type": "markdown",
   "metadata": {},
   "source": [
    " ## 1. LDA\n",
    " \n",
    " ### Predicting Regions"
   ]
  },
  {
   "cell_type": "code",
   "execution_count": 23,
   "metadata": {},
   "outputs": [
    {
     "name": "stdout",
     "output_type": "stream",
     "text": [
      "Point:  [1140, 90, 240, 7880, 570, 20, 60, 3]  - Region:  3\n",
      "Point:  [1166, 97, 272, 6971, 1390, 20, 83, 3]  - Region:  2\n",
      "Point:  [1051, 78, 211, 7421, 1146, 30, 82, 2]  - Region:  2\n",
      "Point:  [1264, 167, 166, 7130, 1187, 22, 52, 12]  - Region:  1\n",
      "Point:  [1095, 58, 198, 7945, 600, 35, 34, 1]  - Region:  3\n"
     ]
    }
   ],
   "source": [
    "clf = LinearDiscriminantAnalysis()\n",
    "clf.fit(fats.as_matrix(), regions.region)\n",
    "\n",
    "#Print test_point names\n",
    "for point in points:\n",
    "   print(\"Point: \", point, \" - Region: \", clf.predict([point])[0])"
   ]
  },
  {
   "cell_type": "markdown",
   "metadata": {},
   "source": [
    "## 2. Logistic Regression\n",
    "### Predicting areas"
   ]
  },
  {
   "cell_type": "code",
   "execution_count": 24,
   "metadata": {},
   "outputs": [
    {
     "name": "stdout",
     "output_type": "stream",
     "text": [
      "Point:  [1140, 90, 240, 7880, 570, 20, 60, 3]  - Region:  East-Liguria\n",
      "Point:  [1166, 97, 272, 6971, 1390, 20, 83, 3]  - Region:  Coast-Sardinia\n",
      "Point:  [1051, 78, 211, 7421, 1146, 30, 82, 2]  - Region:  Inland-Sardinia\n",
      "Point:  [1264, 167, 166, 7130, 1187, 22, 52, 12]  - Region:  South-Apulia\n",
      "Point:  [1095, 58, 198, 7945, 600, 35, 34, 1]  - Region:  Umbria\n"
     ]
    }
   ],
   "source": [
    "from sklearn.linear_model import LogisticRegression\n",
    "\n",
    "lr = LogisticRegression()\n",
    "lr.fit(fats.as_matrix(), areas.area)\n",
    "\n",
    "#Print test_point names\n",
    "for point in points:\n",
    "   print(\"Point: \", point, \" - Area: \", area_names[lr.predict([point])[0]])    "
   ]
  },
  {
   "cell_type": "markdown",
   "metadata": {},
   "source": [
    "## 2. Logistic Regression\n",
    "### Predicting regions"
   ]
  },
  {
   "cell_type": "code",
   "execution_count": 22,
   "metadata": {},
   "outputs": [
    {
     "name": "stdout",
     "output_type": "stream",
     "text": [
      "Point:  [1140, 90, 240, 7880, 570, 20, 60, 3]  - Region:  3\n",
      "Point:  [1166, 97, 272, 6971, 1390, 20, 83, 3]  - Region:  2\n",
      "Point:  [1051, 78, 211, 7421, 1146, 30, 82, 2]  - Region:  2\n",
      "Point:  [1264, 167, 166, 7130, 1187, 22, 52, 12]  - Region:  1\n",
      "Point:  [1095, 58, 198, 7945, 600, 35, 34, 1]  - Region:  3\n"
     ]
    }
   ],
   "source": [
    "lr = LogisticRegression()\n",
    "lr.fit(fats.as_matrix(), regions.region)\n",
    "\n",
    "#Print test_point names\n",
    "for point in points:\n",
    "   print(\"Point: \", point, \" - Region: \", lr.predict([point])[0])"
   ]
  },
  {
   "cell_type": "markdown",
   "metadata": {},
   "source": [
    "## 3. SVM\n",
    "### Predict areas"
   ]
  },
  {
   "cell_type": "code",
   "execution_count": 33,
   "metadata": {},
   "outputs": [
    {
     "name": "stdout",
     "output_type": "stream",
     "text": [
      "Point:  [1140, 90, 240, 7880, 570, 20, 60, 3]  - Area:  East-Liguria\n",
      "Point:  [1166, 97, 272, 6971, 1390, 20, 83, 3]  - Area:  Coast-Sardinia\n",
      "Point:  [1051, 78, 211, 7421, 1146, 30, 82, 2]  - Area:  Inland-Sardinia\n",
      "Point:  [1264, 167, 166, 7130, 1187, 22, 52, 12]  - Area:  South-Apulia\n",
      "Point:  [1095, 58, 198, 7945, 600, 35, 34, 1]  - Area:  Umbria\n"
     ]
    }
   ],
   "source": [
    "from sklearn import svm\n",
    "\n",
    "sm = svm.SVC()\n",
    "sm.fit(fats.as_matrix(), areas.area)\n",
    "\n",
    "#Print test_point names\n",
    "for point in points:\n",
    "   print(\"Point: \", point, \" - Area: \", area_names[sm.predict([point])[0]])    "
   ]
  },
  {
   "cell_type": "markdown",
   "metadata": {},
   "source": [
    "## 3. SVM\n",
    "### Predict regions"
   ]
  },
  {
   "cell_type": "code",
   "execution_count": 34,
   "metadata": {},
   "outputs": [
    {
     "name": "stdout",
     "output_type": "stream",
     "text": [
      "Point:  [1140, 90, 240, 7880, 570, 20, 60, 3]  - Region:  7\n",
      "Point:  [1166, 97, 272, 6971, 1390, 20, 83, 3]  - Region:  6\n",
      "Point:  [1051, 78, 211, 7421, 1146, 30, 82, 2]  - Region:  5\n",
      "Point:  [1264, 167, 166, 7130, 1187, 22, 52, 12]  - Region:  3\n",
      "Point:  [1095, 58, 198, 7945, 600, 35, 34, 1]  - Region:  9\n"
     ]
    }
   ],
   "source": [
    "sm = svm.SVC()\n",
    "sm.fit(fats.as_matrix(), regions.region)\n",
    "\n",
    "for point in points:\n",
    "   print(\"Point: \", point, \" - Region: \", sm.predict([point])[0])"
   ]
  },
  {
   "cell_type": "markdown",
   "metadata": {},
   "source": [
    "## 4. k-NN\n",
    "### Predict areas"
   ]
  },
  {
   "cell_type": "code",
   "execution_count": 28,
   "metadata": {},
   "outputs": [
    {
     "name": "stdout",
     "output_type": "stream",
     "text": [
      "Point:  [1140, 90, 240, 7880, 570, 20, 60, 3]  - Area:  East-Liguria\n",
      "Point:  [1166, 97, 272, 6971, 1390, 20, 83, 3]  - Area:  Coast-Sardinia\n",
      "Point:  [1051, 78, 211, 7421, 1146, 30, 82, 2]  - Area:  Inland-Sardinia\n",
      "Point:  [1264, 167, 166, 7130, 1187, 22, 52, 12]  - Area:  South-Apulia\n",
      "Point:  [1095, 58, 198, 7945, 600, 35, 34, 1]  - Area:  Umbria\n"
     ]
    }
   ],
   "source": [
    "from sklearn.neighbors import KNeighborsClassifier\n",
    "knn = KNeighborsClassifier(n_neighbors=5)\n",
    "knn.fit(fats.as_matrix(), areas.area) \n",
    "\n",
    "for point in points:\n",
    "   print(\"Point: \", point, \" - Area: \", area_names[knn.predict([point])[0]])        \n"
   ]
  },
  {
   "cell_type": "markdown",
   "metadata": {},
   "source": [
    "## 4. k-NN\n",
    "### Predict regions"
   ]
  },
  {
   "cell_type": "code",
   "execution_count": 29,
   "metadata": {},
   "outputs": [
    {
     "name": "stdout",
     "output_type": "stream",
     "text": [
      "Point:  [1140, 90, 240, 7880, 570, 20, 60, 3]  - Region:  3\n",
      "Point:  [1166, 97, 272, 6971, 1390, 20, 83, 3]  - Region:  2\n",
      "Point:  [1051, 78, 211, 7421, 1146, 30, 82, 2]  - Region:  2\n",
      "Point:  [1264, 167, 166, 7130, 1187, 22, 52, 12]  - Region:  1\n",
      "Point:  [1095, 58, 198, 7945, 600, 35, 34, 1]  - Region:  3\n"
     ]
    }
   ],
   "source": [
    "knn = KNeighborsClassifier(n_neighbors=3)\n",
    "knn.fit(fats.as_matrix(), regions.region) \n",
    "\n",
    "for point in points:\n",
    "   print(\"Point: \", point, \" - Region: \", knn.predict([point])[0])"
   ]
  },
  {
   "cell_type": "markdown",
   "metadata": {},
   "source": [
    "## 5. Random Forest\n",
    "### Predict areas"
   ]
  },
  {
   "cell_type": "code",
   "execution_count": 30,
   "metadata": {},
   "outputs": [
    {
     "name": "stdout",
     "output_type": "stream",
     "text": [
      "Point:  [1140, 90, 240, 7880, 570, 20, 60, 3]  - Area:  East-Liguria\n",
      "Point:  [1166, 97, 272, 6971, 1390, 20, 83, 3]  - Area:  Coast-Sardinia\n",
      "Point:  [1051, 78, 211, 7421, 1146, 30, 82, 2]  - Area:  Inland-Sardinia\n",
      "Point:  [1264, 167, 166, 7130, 1187, 22, 52, 12]  - Area:  South-Apulia\n",
      "Point:  [1095, 58, 198, 7945, 600, 35, 34, 1]  - Area:  Umbria\n"
     ]
    }
   ],
   "source": [
    "from sklearn.ensemble import RandomForestClassifier\n",
    "\n",
    "rf = RandomForestClassifier(max_depth=3, random_state=0)\n",
    "rf.fit(fats.as_matrix(), areas.area)\n",
    "\n",
    "for point in points:\n",
    "   print(\"Point: \", point, \" - Area: \", area_names[rf.predict([point])[0]])        \n"
   ]
  },
  {
   "cell_type": "markdown",
   "metadata": {},
   "source": [
    "## 5. Random Forest\n",
    "### Predict regions"
   ]
  },
  {
   "cell_type": "code",
   "execution_count": 32,
   "metadata": {},
   "outputs": [
    {
     "name": "stdout",
     "output_type": "stream",
     "text": [
      "Point:  [1140, 90, 240, 7880, 570, 20, 60, 3]  - Region:  3\n",
      "Point:  [1166, 97, 272, 6971, 1390, 20, 83, 3]  - Region:  2\n",
      "Point:  [1051, 78, 211, 7421, 1146, 30, 82, 2]  - Region:  2\n",
      "Point:  [1264, 167, 166, 7130, 1187, 22, 52, 12]  - Region:  1\n",
      "Point:  [1095, 58, 198, 7945, 600, 35, 34, 1]  - Region:  3\n"
     ]
    }
   ],
   "source": [
    "rf = RandomForestClassifier(max_depth=3, random_state=0)\n",
    "rf.fit(fats.as_matrix(), regions.region)\n",
    "\n",
    "for point in points:\n",
    "   print(\"Point: \", point, \" - Region: \", rf.predict([point])[0])"
   ]
  }
 ],
 "metadata": {
  "kernelspec": {
   "display_name": "Python 3",
   "language": "python",
   "name": "python3"
  },
  "language_info": {
   "codemirror_mode": {
    "name": "ipython",
    "version": 3
   },
   "file_extension": ".py",
   "mimetype": "text/x-python",
   "name": "python",
   "nbconvert_exporter": "python",
   "pygments_lexer": "ipython3",
   "version": "3.6.2"
  }
 },
 "nbformat": 4,
 "nbformat_minor": 2
}
